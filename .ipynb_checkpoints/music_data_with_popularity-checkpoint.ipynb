{
 "cells": [
  {
   "cell_type": "code",
   "execution_count": null,
   "id": "27a337b9",
   "metadata": {},
   "outputs": [],
   "source": [
    "import pandas as pd\n",
    "import numpy as np"
   ]
  },
  {
   "cell_type": "code",
   "execution_count": null,
   "id": "fba05509",
   "metadata": {},
   "outputs": [],
   "source": [
    "df = pd.read_csv(\"music_data_augmented.csv\")\n",
    "df.head()"
   ]
  },
  {
   "cell_type": "code",
   "execution_count": null,
   "id": "2478ed13",
   "metadata": {},
   "outputs": [],
   "source": [
    "tracks = pd.read_csv(\"tracks.csv\")\n",
    "tracks.head()"
   ]
  },
  {
   "cell_type": "code",
   "execution_count": null,
   "id": "12aa9130",
   "metadata": {},
   "outputs": [],
   "source": [
    "tracks['artiststring'] = tracks['artists'].apply(lambda x: x.replace(\"['\", \"\").replace(\"']\", \"\").replace(\"', '\",\", \")).apply(str.lower)\n",
    "tracks[\"name\"] = tracks['name'].map(lambda x: x.lower() if isinstance(x,str) else x).astype(str)"
   ]
  },
  {
   "cell_type": "code",
   "execution_count": null,
   "id": "abaab6b6",
   "metadata": {},
   "outputs": [],
   "source": [
    "track_cols = [\"artiststring\", \"name\", \"popularity\"]\n",
    "sub_tracks = tracks[track_cols]\n",
    "sub_tracks"
   ]
  },
  {
   "cell_type": "code",
   "execution_count": null,
   "id": "e1e483fc",
   "metadata": {},
   "outputs": [],
   "source": [
    "for df_index, df_row in df.iterrows():\n",
    "    for sub_tracks_index, sub_tracks_row in sub_tracks.iterrows():\n",
    "        if (sub_tracks_row[\"artiststring\"] in df_row[\"artist_name\"]) and (sub_tracks_row[\"name\"] in df_row[\"track_name\"]):\n",
    "            df_row['popularity'] = sub_tracks_row['popularity']\n",
    "        else:\n",
    "            df_row['popularity'] = 0"
   ]
  },
  {
   "cell_type": "code",
   "execution_count": null,
   "id": "6034efa1",
   "metadata": {},
   "outputs": [],
   "source": [
    "df.head()"
   ]
  },
  {
   "cell_type": "code",
   "execution_count": null,
   "id": "fb9eb180",
   "metadata": {},
   "outputs": [],
   "source": [
    "df.to_csv('music_data_with_popularity.csv')"
   ]
  },
  {
   "cell_type": "code",
   "execution_count": null,
   "id": "8d84c174",
   "metadata": {},
   "outputs": [],
   "source": []
  }
 ],
 "metadata": {
  "kernelspec": {
   "display_name": "Python 3 (ipykernel)",
   "language": "python",
   "name": "python3"
  },
  "language_info": {
   "codemirror_mode": {
    "name": "ipython",
    "version": 3
   },
   "file_extension": ".py",
   "mimetype": "text/x-python",
   "name": "python",
   "nbconvert_exporter": "python",
   "pygments_lexer": "ipython3",
   "version": "3.10.9"
  }
 },
 "nbformat": 4,
 "nbformat_minor": 5
}
